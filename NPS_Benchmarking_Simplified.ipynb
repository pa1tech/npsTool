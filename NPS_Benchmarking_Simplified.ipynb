{
 "cells": [
  {
   "cell_type": "code",
   "execution_count": 1,
   "metadata": {},
   "outputs": [],
   "source": [
    "import time,os,requests,io,datetime\n",
    "import pandas as pd\n",
    "import numpy as np\n",
    "from selenium.webdriver import Chrome\n",
    "from selenium.webdriver.common.by import By\n",
    "from selenium.webdriver.chrome.service import Service\n",
    "from webdriver_manager.chrome import ChromeDriverManager"
   ]
  },
  {
   "cell_type": "markdown",
   "metadata": {},
   "source": [
    "### Read Input"
   ]
  },
  {
   "cell_type": "code",
   "execution_count": 20,
   "metadata": {},
   "outputs": [],
   "source": [
    "# Read the Transactions File\n",
    "tdf = pd.read_csv(\"npsTransactions.csv\")\n",
    "def negUnits(x):\n",
    "    if(x[0] == \"(\"):\n",
    "        x = -float(x[1:-1])\n",
    "    else:\n",
    "        x = float(x)\n",
    "    return x\n",
    "tdf['Amt'] = tdf['Amt'].apply(negUnits)\n",
    "\n",
    "tdf['Date'] = pd.to_datetime(tdf['Date'])\n",
    "tdf = tdf.sort_values(by='Date',ascending=True, ignore_index=True)\n",
    "tdf['Date'] = tdf['Date'].dt.strftime('%Y-%m-%d')\n",
    "\n",
    "fdate = datetime.datetime.strptime(min(tdf[\"Date\"]), \"%Y-%m-%d\") - datetime.timedelta(days = 2)\n",
    "tdate = datetime.datetime.today()"
   ]
  },
  {
   "cell_type": "code",
   "execution_count": 21,
   "metadata": {},
   "outputs": [],
   "source": [
    "try:\n",
    "\tdf1 = pd.read_csv(\"NPS_Tier1Equity_Analysis.csv\")\n",
    "\tdf1 = df1.drop(len(df1['Date'])-1)\n",
    "\tfdate = datetime.datetime.strptime(df1.at[len(df1['Date'])-1,\"Date\"], \"%Y-%m-%d\") \n",
    "\toldV = True\n",
    "except:\n",
    "\toldV = False"
   ]
  },
  {
   "cell_type": "markdown",
   "metadata": {},
   "source": [
    "### Get PFM NAV"
   ]
  },
  {
   "cell_type": "code",
   "execution_count": 22,
   "metadata": {},
   "outputs": [
    {
     "ename": "KeyboardInterrupt",
     "evalue": "",
     "output_type": "error",
     "traceback": [
      "\u001b[1;31m---------------------------------------------------------------------------\u001b[0m",
      "\u001b[1;31mKeyboardInterrupt\u001b[0m                         Traceback (most recent call last)",
      "Cell \u001b[1;32mIn[22], line 2\u001b[0m\n\u001b[0;32m      1\u001b[0m \u001b[39m# HDFC PFM Data\u001b[39;00m\n\u001b[1;32m----> 2\u001b[0m driver \u001b[39m=\u001b[39m Chrome(service\u001b[39m=\u001b[39mService(ChromeDriverManager()\u001b[39m.\u001b[39;49minstall())) \n\u001b[0;32m      4\u001b[0m driver\u001b[39m.\u001b[39mget(\u001b[39m\"\u001b[39m\u001b[39mhttps://www.hdfcpension.com/nav/nav-history/\u001b[39m\u001b[39m\"\u001b[39m)\n\u001b[0;32m      5\u001b[0m time\u001b[39m.\u001b[39msleep(\u001b[39m5\u001b[39m)\n",
      "File \u001b[1;32mc:\\Users\\pavan\\AppData\\Local\\Programs\\Python\\Python39\\lib\\site-packages\\webdriver_manager\\chrome.py:40\u001b[0m, in \u001b[0;36mChromeDriverManager.install\u001b[1;34m(self)\u001b[0m\n\u001b[0;32m     39\u001b[0m \u001b[39mdef\u001b[39;00m \u001b[39minstall\u001b[39m(\u001b[39mself\u001b[39m) \u001b[39m-\u001b[39m\u001b[39m>\u001b[39m \u001b[39mstr\u001b[39m:\n\u001b[1;32m---> 40\u001b[0m     driver_path \u001b[39m=\u001b[39m \u001b[39mself\u001b[39;49m\u001b[39m.\u001b[39;49m_get_driver_binary_path(\u001b[39mself\u001b[39;49m\u001b[39m.\u001b[39;49mdriver)\n\u001b[0;32m     41\u001b[0m     os\u001b[39m.\u001b[39mchmod(driver_path, \u001b[39m0o755\u001b[39m)\n\u001b[0;32m     42\u001b[0m     \u001b[39mreturn\u001b[39;00m driver_path\n",
      "File \u001b[1;32mc:\\Users\\pavan\\AppData\\Local\\Programs\\Python\\Python39\\lib\\site-packages\\webdriver_manager\\core\\manager.py:35\u001b[0m, in \u001b[0;36mDriverManager._get_driver_binary_path\u001b[1;34m(self, driver)\u001b[0m\n\u001b[0;32m     34\u001b[0m \u001b[39mdef\u001b[39;00m \u001b[39m_get_driver_binary_path\u001b[39m(\u001b[39mself\u001b[39m, driver):\n\u001b[1;32m---> 35\u001b[0m     binary_path \u001b[39m=\u001b[39m \u001b[39mself\u001b[39;49m\u001b[39m.\u001b[39;49m_cache_manager\u001b[39m.\u001b[39;49mfind_driver(driver)\n\u001b[0;32m     36\u001b[0m     \u001b[39mif\u001b[39;00m binary_path:\n\u001b[0;32m     37\u001b[0m         \u001b[39mreturn\u001b[39;00m binary_path\n",
      "File \u001b[1;32mc:\\Users\\pavan\\AppData\\Local\\Programs\\Python\\Python39\\lib\\site-packages\\webdriver_manager\\core\\driver_cache.py:101\u001b[0m, in \u001b[0;36mDriverCacheManager.find_driver\u001b[1;34m(self, driver)\u001b[0m\n\u001b[0;32m     99\u001b[0m driver_name \u001b[39m=\u001b[39m driver\u001b[39m.\u001b[39mget_name()\n\u001b[0;32m    100\u001b[0m browser_type \u001b[39m=\u001b[39m driver\u001b[39m.\u001b[39mget_browser_type()\n\u001b[1;32m--> 101\u001b[0m browser_version \u001b[39m=\u001b[39m \u001b[39mself\u001b[39;49m\u001b[39m.\u001b[39;49m_os_system_manager\u001b[39m.\u001b[39;49mget_browser_version_from_os(browser_type)\n\u001b[0;32m    102\u001b[0m \u001b[39mif\u001b[39;00m \u001b[39mnot\u001b[39;00m browser_version:\n\u001b[0;32m    103\u001b[0m     \u001b[39mreturn\u001b[39;00m \u001b[39mNone\u001b[39;00m\n",
      "File \u001b[1;32mc:\\Users\\pavan\\AppData\\Local\\Programs\\Python\\Python39\\lib\\site-packages\\webdriver_manager\\core\\os_manager.py:159\u001b[0m, in \u001b[0;36mOperationSystemManager.get_browser_version_from_os\u001b[1;34m(self, browser_type)\u001b[0m\n\u001b[0;32m    157\u001b[0m     cmd_mapping \u001b[39m=\u001b[39m cmd_mapping[browser_type][OperationSystemManager\u001b[39m.\u001b[39mget_os_name()]\n\u001b[0;32m    158\u001b[0m     pattern \u001b[39m=\u001b[39m PATTERN[browser_type]\n\u001b[1;32m--> 159\u001b[0m     version \u001b[39m=\u001b[39m read_version_from_cmd(cmd_mapping, pattern)\n\u001b[0;32m    160\u001b[0m     \u001b[39mreturn\u001b[39;00m version\n\u001b[0;32m    161\u001b[0m \u001b[39mexcept\u001b[39;00m \u001b[39mException\u001b[39;00m:\n",
      "File \u001b[1;32mc:\\Users\\pavan\\AppData\\Local\\Programs\\Python\\Python39\\lib\\site-packages\\webdriver_manager\\core\\utils.py:45\u001b[0m, in \u001b[0;36mread_version_from_cmd\u001b[1;34m(cmd, pattern)\u001b[0m\n\u001b[0;32m     38\u001b[0m \u001b[39mdef\u001b[39;00m \u001b[39mread_version_from_cmd\u001b[39m(cmd, pattern):\n\u001b[0;32m     39\u001b[0m     \u001b[39mwith\u001b[39;00m subprocess\u001b[39m.\u001b[39mPopen(\n\u001b[0;32m     40\u001b[0m             cmd,\n\u001b[0;32m     41\u001b[0m             stdout\u001b[39m=\u001b[39msubprocess\u001b[39m.\u001b[39mPIPE,\n\u001b[0;32m     42\u001b[0m             stdin\u001b[39m=\u001b[39msubprocess\u001b[39m.\u001b[39mDEVNULL,\n\u001b[0;32m     43\u001b[0m             shell\u001b[39m=\u001b[39m\u001b[39mTrue\u001b[39;00m,\n\u001b[0;32m     44\u001b[0m     ) \u001b[39mas\u001b[39;00m stream:\n\u001b[1;32m---> 45\u001b[0m         stdout \u001b[39m=\u001b[39m stream\u001b[39m.\u001b[39;49mcommunicate()[\u001b[39m0\u001b[39m]\u001b[39m.\u001b[39mdecode()\n\u001b[0;32m     46\u001b[0m         version \u001b[39m=\u001b[39m re\u001b[39m.\u001b[39msearch(pattern, stdout)\n\u001b[0;32m     47\u001b[0m         version \u001b[39m=\u001b[39m version\u001b[39m.\u001b[39mgroup(\u001b[39m0\u001b[39m) \u001b[39mif\u001b[39;00m version \u001b[39melse\u001b[39;00m \u001b[39mNone\u001b[39;00m\n",
      "File \u001b[1;32mc:\\Users\\pavan\\AppData\\Local\\Programs\\Python\\Python39\\lib\\subprocess.py:1121\u001b[0m, in \u001b[0;36mPopen.communicate\u001b[1;34m(self, input, timeout)\u001b[0m\n\u001b[0;32m   1119\u001b[0m     \u001b[39mself\u001b[39m\u001b[39m.\u001b[39m_stdin_write(\u001b[39minput\u001b[39m)\n\u001b[0;32m   1120\u001b[0m \u001b[39melif\u001b[39;00m \u001b[39mself\u001b[39m\u001b[39m.\u001b[39mstdout:\n\u001b[1;32m-> 1121\u001b[0m     stdout \u001b[39m=\u001b[39m \u001b[39mself\u001b[39;49m\u001b[39m.\u001b[39;49mstdout\u001b[39m.\u001b[39;49mread()\n\u001b[0;32m   1122\u001b[0m     \u001b[39mself\u001b[39m\u001b[39m.\u001b[39mstdout\u001b[39m.\u001b[39mclose()\n\u001b[0;32m   1123\u001b[0m \u001b[39melif\u001b[39;00m \u001b[39mself\u001b[39m\u001b[39m.\u001b[39mstderr:\n",
      "\u001b[1;31mKeyboardInterrupt\u001b[0m: "
     ]
    }
   ],
   "source": [
    "# HDFC PFM Data\n",
    "driver = Chrome(service=Service(ChromeDriverManager().install())) \n",
    "\n",
    "driver.get(\"https://www.hdfcpension.com/nav/nav-history/\")\n",
    "time.sleep(5)\n",
    "driver.execute_script(\"document.getElementById('from_date').value = '%s';\"%fdate.strftime(\"%d-%m-%Y\"))\n",
    "time.sleep(5)\n",
    "driver.execute_script(\"document.getElementById('to_date').value = '%s';\"%tdate.strftime(\"%d-%m-%Y\"))\n",
    "time.sleep(5)\n",
    "driver.find_element(By.ID,'filter').click()\n",
    "time.sleep(10)\n",
    "driver.find_element(By.NAME,'filter').click()\n",
    "time.sleep(30)\n",
    "\n",
    "with open(\"tmp.html\", \"w\", encoding=\"utf-8\") as f:\n",
    "    f.write(driver.page_source)\n",
    "\n",
    "dfs = pd.read_html(\"tmp.html\")\n",
    "hdfcdf = dfs[0]"
   ]
  },
  {
   "cell_type": "code",
   "execution_count": 7,
   "metadata": {},
   "outputs": [],
   "source": [
    "# SBI PFM Data\n",
    "driver = Chrome(service=Service(ChromeDriverManager().install())) \n",
    "\n",
    "driver.get(\"https://www.sbipensionfunds.com/historical-nav/\")\n",
    "time.sleep(10)\n",
    "driver.execute_script(\"document.getElementById('f_date_p1').value = '%s';\"%fdate.strftime(\"%Y-%m-%d\"))\n",
    "time.sleep(5)\n",
    "driver.execute_script(\"document.getElementById('f_date_p2').value = '%s';\"%tdate.strftime(\"%Y-%m-%d\"))\n",
    "time.sleep(10)\n",
    "\n",
    "l = driver.find_element(By.NAME,'mysubmit')#.click()\n",
    "driver.execute_script(\"arguments[0].click();\", l)\n",
    "time.sleep(30)\n",
    "\n",
    "with open(\"tmp.html\", \"w\", encoding=\"utf-8\") as f:\n",
    "    f.write(driver.page_source)\n",
    "\n",
    "dfs = pd.read_html(\"tmp.html\")\n",
    "sbidf = dfs[1]"
   ]
  },
  {
   "cell_type": "code",
   "execution_count": 8,
   "metadata": {},
   "outputs": [],
   "source": [
    "# Save NAV Datas to csv\n",
    "sbidf.to_csv(\"SBI_NAV_Data.csv\",index=False)\n",
    "hdfcdf.to_csv(\"HDFC_NAV_Data.csv\",index=False)\n",
    "os.remove(\"tmp.html\")\n",
    "driver.quit()"
   ]
  },
  {
   "cell_type": "markdown",
   "metadata": {},
   "source": [
    "### Compute"
   ]
  },
  {
   "cell_type": "code",
   "execution_count": 55,
   "metadata": {},
   "outputs": [],
   "source": [
    "# Initialization and functions\n",
    "df = tdf.copy()\n",
    "try:\n",
    "\twhile datetime.datetime.strptime(df.at[0,\"Date\"], \"%Y-%m-%d\") <= fdate:\n",
    "\t\tdf = df.drop(0)\n",
    "\t\tdf.reset_index(drop=True, inplace=True)\n",
    "except:\n",
    "\tprint(\"No New Data\")\n",
    "\n",
    "sbidf = pd.read_csv(\"SBI_NAV_Data.csv\")\n",
    "hdfcdf = pd.read_csv(\"HDFC_NAV_Data.csv\")\n",
    "\n",
    "def sbiT1(date):\n",
    "    return float(sbidf.loc[sbidf[\"0\"] == \"%s\"%date][\"3\"]) #3- t1, 6-t2\n",
    "def hdfcT1(date):\n",
    "    return float(hdfcdf.loc[(hdfcdf[\"Date\"]) == \"%s\"%date][\"HDFC Pension Fund Scheme Tier I\"]) \n",
    "def getNifty(date):\n",
    "\turl=\"https://archives.nseindia.com/content/indices/ind_close_all_%s.csv\"%date\n",
    "\ts=requests.get(url).content\n",
    "\tindicesDf=pd.read_csv(io.StringIO(s.decode('utf-8')))\n",
    "\tindicesDf = indicesDf.loc[indicesDf['Index Name'] == 'Nifty 50']\n",
    "\tniftyClose = indicesDf.at[0,'Closing Index Value']\n",
    "\treturn float(niftyClose/100)"
   ]
  },
  {
   "cell_type": "code",
   "execution_count": 56,
   "metadata": {},
   "outputs": [],
   "source": [
    "# Units alloted if invested in SBI vs HDFC vs Nifty\n",
    "df[\"SBI Units\"] = np.zeros(len(df['Date']))\n",
    "df[\"HDFC Units\"] = np.zeros(len(df['Date']))\n",
    "df[\"Nifty Units\"] = np.zeros(len(df['Date']))\n",
    "\n",
    "for i in range(len(df['Date'])):\n",
    "    inv = float(df.at[i,'Amt'])\n",
    "    date = datetime.datetime.strptime(df.at[i,'Date'], \"%Y-%m-%d\")\n",
    "    try:\n",
    "        df.at[i,\"SBI Units\"] = inv/sbiT1(date.strftime(\"%Y-%m-%d\"))\n",
    "        df.at[i,\"HDFC Units\"] = inv/hdfcT1(date.strftime(\"%d-%m-%Y\"))\n",
    "        df.at[i,\"Nifty Units\"] = inv/getNifty(date.strftime(\"%d%m%Y\"))\n",
    "    except:\n",
    "        date = date - datetime.timedelta(days=1)\n",
    "        df.at[i,\"SBI Units\"] = inv/sbiT1(date.strftime(\"%Y-%m-%d\"))\n",
    "        df.at[i,\"HDFC Units\"] = inv/hdfcT1(date.strftime(\"%d-%m-%Y\"))\n",
    "        df.at[i,\"Nifty Units\"] = inv/getNifty(date.strftime(\"%d%m%Y\"))"
   ]
  },
  {
   "cell_type": "code",
   "execution_count": 57,
   "metadata": {},
   "outputs": [],
   "source": [
    "# Compute Present Value\n",
    "df['SBI Units'] = df['SBI Units'].apply(lambda x: round(x, 4))\n",
    "df['HDFC Units'] = df['HDFC Units'].apply(lambda x: round(x, 4))\n",
    "df['Nifty Units'] = df['Nifty Units'].apply(lambda x: round(x, 4))\n",
    "\n",
    "if oldV: df = pd.concat((df1,df))\n",
    "\n",
    "invested = df['Amt'].sum()\n",
    "sbiUnits = df['SBI Units'].sum()\n",
    "hdfcUnits = df['HDFC Units'].sum()\n",
    "niftyUnits = df['Nifty Units'].sum()\n",
    "\n",
    "date = datetime.datetime.strptime(sbidf.at[len(sbidf[\"0\"])-1,\"0\"], \"%Y-%m-%d\")\n",
    "\n",
    "sbiCurr = sbiUnits*sbiT1(date.strftime(\"%Y-%m-%d\"))\n",
    "hdfcCurr = hdfcUnits*hdfcT1(date.strftime(\"%d-%m-%Y\"))\n",
    "niftyCurr = niftyUnits*getNifty(date.strftime(\"%d%m%Y\"))\n",
    "\n",
    "index = len(df['Date'])\n",
    "df.at[index,\"Date\"] = date.strftime(\"%d-%b-%Y\")\n",
    "df.at[index,\"Amt\"] = invested\n",
    "df.at[index,\"SBI Units\"] = round(sbiCurr,2)\n",
    "df.at[index,\"HDFC Units\"] = round(hdfcCurr,2)\n",
    "df.at[index,\"Nifty Units\"] = round(niftyCurr,2)"
   ]
  },
  {
   "cell_type": "code",
   "execution_count": 58,
   "metadata": {},
   "outputs": [],
   "source": [
    "# Save to file\n",
    "df.to_csv(\"NPS_Tier1Equity_Analysis.csv\",index=False)"
   ]
  }
 ],
 "metadata": {
  "kernelspec": {
   "display_name": "Python 3",
   "language": "python",
   "name": "python3"
  },
  "language_info": {
   "codemirror_mode": {
    "name": "ipython",
    "version": 3
   },
   "file_extension": ".py",
   "mimetype": "text/x-python",
   "name": "python",
   "nbconvert_exporter": "python",
   "pygments_lexer": "ipython3",
   "version": "3.9.6"
  },
  "orig_nbformat": 4
 },
 "nbformat": 4,
 "nbformat_minor": 2
}
