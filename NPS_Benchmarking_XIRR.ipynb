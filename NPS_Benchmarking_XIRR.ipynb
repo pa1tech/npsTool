{
 "cells": [
  {
   "cell_type": "code",
   "execution_count": 1,
   "metadata": {},
   "outputs": [],
   "source": [
    "import time,os,requests,io\n",
    "import pandas as pd\n",
    "import numpy as np\n",
    "from datetime import datetime,timedelta\n",
    "from scipy import optimize\n",
    "\n",
    "\n",
    "PFMs = {\"SBI\":\"001\", \"HDFC\":\"008\", \"ICICI\":\"007\"}\n",
    "tiers = {\"E1\":1, \"E2\":4}\n",
    "offsets = {\"SBI\":2, \"HDFC\":0, \"ICICI\":0}\n",
    "\n",
    "mypfm = \"SBI\"\n",
    "mytier = \"E1\""
   ]
  },
  {
   "cell_type": "markdown",
   "metadata": {},
   "source": [
    "### Read Input & add Nifty Data"
   ]
  },
  {
   "cell_type": "code",
   "execution_count": 2,
   "metadata": {},
   "outputs": [],
   "source": [
    "# Read the Transactions File\n",
    "tdf = pd.read_csv(\"npsTransactions.csv\")\n",
    "def negUnits(x):\n",
    "    try:\n",
    "        x = float(x)\n",
    "    except:\n",
    "        if(x[0] == \"(\"):\n",
    "            x = -float(x[1:-1])\n",
    "        else:\n",
    "            print(\"error\")\n",
    "    return x\n",
    "tdf['Amt'] = tdf['Amt'].apply(negUnits)\n",
    "\n",
    "tdf['Date'] = pd.to_datetime(tdf['Date'])\n",
    "tdf = tdf.sort_values(by='Date',ascending=True, ignore_index=True)\n",
    "tdf['Date'] = tdf['Date'].dt.strftime('%Y-%m-%d')"
   ]
  },
  {
   "cell_type": "code",
   "execution_count": 3,
   "metadata": {},
   "outputs": [
    {
     "name": "stdout",
     "output_type": "stream",
     "text": [
      "Nifty-1 2022-04-08 00:00:00\n",
      "Nifty 2022-04-20 00:00:00\n",
      "Nifty 2022-06-13 00:00:00\n",
      "Nifty 2022-07-09 00:00:00\n",
      "Nifty-1 2022-07-08 00:00:00\n",
      "Nifty 2022-07-18 00:00:00\n",
      "Nifty 2022-08-19 00:00:00\n",
      "Nifty 2022-09-01 00:00:00\n",
      "Nifty 2023-03-13 00:00:00\n",
      "Nifty 2023-04-06 00:00:00\n",
      "Nifty 2023-04-11 00:00:00\n",
      "Nifty 2023-05-08 00:00:00\n",
      "Nifty 2023-06-12 00:00:00\n"
     ]
    }
   ],
   "source": [
    "def getNifty(date):\n",
    "\turl=\"https://archives.nseindia.com/content/indices/ind_close_all_%s.csv\"%date\n",
    "\ts=requests.get(url).content\n",
    "\tindicesDf=pd.read_csv(io.StringIO(s.decode('utf-8')))\n",
    "\tindicesDf = indicesDf.loc[indicesDf['Index Name'] == 'Nifty 50']\n",
    "\tniftyClose = indicesDf.at[0,'Closing Index Value']\n",
    "\treturn float(niftyClose/100)\n",
    "\n",
    "df = tdf\n",
    "for i in range(len(df['Date'])):\n",
    "    inv = float(df.at[i,'Amt'])\n",
    "    date = datetime.strptime(df.at[i,'Date'], \"%Y-%m-%d\")\n",
    "    try:\n",
    "        if(str(df.at[i,\"Nifty NAV\"]) == \"nan\"): \n",
    "            print(\"Nifty\",date)\n",
    "            df.at[i,\"Nifty NAV\"] = getNifty(date.strftime(\"%d%m%Y\"))\n",
    "    except:\n",
    "        date = date - timedelta(days=1)\n",
    "        print(\"Nifty-1\",date)\n",
    "        df.at[i,\"Nifty NAV\"] = getNifty(date.strftime(\"%d%m%Y\"))\n",
    "\n",
    "df = pd.read_csv(\"npsTransactions.csv\")\n",
    "df[\"Nifty NAV\"] = tdf[\"Nifty NAV\"]\n",
    "#df.to_csv(\"npsTransactions.csv\",index=False)"
   ]
  },
  {
   "cell_type": "markdown",
   "metadata": {},
   "source": [
    "### Compute"
   ]
  },
  {
   "cell_type": "code",
   "execution_count": 4,
   "metadata": {},
   "outputs": [],
   "source": [
    "tdate = datetime.today()\n",
    "fdate = tdate - timedelta(days = 7)\n",
    "\n",
    "dfNAV = pd.DataFrame()\n",
    "for pfm in PFMs.keys():\n",
    "    for tier in tiers.keys():\n",
    "        o = requests.get(f\"https://www.npstrust.org.in/nav-graphs-details?lnavdata=PFM{PFMs[pfm]}&yearval={fdate.strftime('%Y-%m-%d')}@{tdate.strftime('%Y-%m-%d')}&subcat=SM{PFMs[pfm]}00{offsets[pfm]+tiers[tier]}\")\n",
    "\n",
    "        date = []\n",
    "        nav = []\n",
    "        for d in o.text[2:-2].split(\"],[\"):\n",
    "            d = d.split(\",\")\n",
    "            date.append(datetime.fromtimestamp(int(d[0][:-3])))\n",
    "            nav.append(d[1])\n",
    "\n",
    "        dfNAV[\"Date\"] = pd.to_datetime(date).strftime(\"%Y-%m-%d\")\n",
    "        dfNAV[f\"{pfm}_{tier}\"] = nav"
   ]
  },
  {
   "cell_type": "code",
   "execution_count": 5,
   "metadata": {},
   "outputs": [],
   "source": [
    "# Initialization and functions\n",
    "def pfmNAV(date,pfm,tier=\"E1\"):\n",
    "    return float(dfNAV.loc[(dfNAV[\"Date\"]) == \"%s\"%date][f\"{pfm}_{tier}\"]) \n",
    "\n",
    "# Functions\n",
    "def xnpv(rate,cashflows):\n",
    "    chron_order = sorted(cashflows, key = lambda x: x[0])\n",
    "    t0 = chron_order[0][0]\n",
    "    return sum([float(cf)/(1+rate)**((t-t0).days/365.0) for (t,cf) in chron_order])\n",
    "\n",
    "def xirr(cashflows,currDate,current,guess=0.1):\n",
    "\tfor i in range(len(cashflows)):\n",
    "\t\tcashflows[i][0] = datetime.strptime(cashflows[i][0], \"%Y-%m-%d\") \n",
    "\tcashflows.append((currDate,-current))\n",
    "\treturn optimize.newton(lambda r: xnpv(r,cashflows),guess)"
   ]
  },
  {
   "cell_type": "code",
   "execution_count": 6,
   "metadata": {},
   "outputs": [],
   "source": [
    "df = tdf.copy()\n",
    "df[\"NPS Units\"] = df[\"Amt\"]/df[\"NAV\"]\n",
    "df[\"Nifty Units\"] = df[\"Amt\"]/df[\"Nifty NAV\"]"
   ]
  },
  {
   "cell_type": "code",
   "execution_count": 7,
   "metadata": {},
   "outputs": [],
   "source": [
    "# Compute Present Value\n",
    "df['NPS Units'] = df['NPS Units'].apply(lambda x: round(x, 4))\n",
    "df['Nifty Units'] = df['Nifty Units'].apply(lambda x: round(x, 4))\n",
    "\n",
    "invested = df['Amt'].sum()\n",
    "hdfcUnits = df['NPS Units'].sum()\n",
    "niftyUnits = df['Nifty Units'].sum()\n",
    "\n",
    "dfNAV[\"Date\"] = pd.to_datetime(dfNAV[\"Date\"])\n",
    "tdate = list(dfNAV[\"Date\"])[-1]\n",
    "nifNAV = getNifty(tdate.strftime(\"%d%m%Y\"))\n",
    "\n",
    "nav = pfmNAV(tdate,pfm=mypfm,tier=mytier)\n",
    "hdfcCurr = hdfcUnits*float(nav)\n",
    "niftyCurr = niftyUnits*nifNAV\n",
    "\n",
    "xirrHDFC = 100*xirr(((df[[\"Date\", \"Amt\"]]).values.tolist()),tdate,hdfcCurr)\n",
    "xirrNIFTY = 100*xirr(((df[[\"Date\", \"Amt\"]]).values.tolist()),tdate,niftyCurr)\n",
    "\n",
    "index = len(df['Date'])\n",
    "df.at[index,\"Date\"] = tdate.strftime(\"%d-%b-%Y\")\n",
    "df.at[index,\"Amt\"] = invested\n",
    "df.at[index,\"NAV\"] = nav\n",
    "df.at[index,\"Nifty NAV\"] = nifNAV\n",
    "df.at[index,\"NPS Units\"] = round(hdfcCurr,2)\n",
    "df.at[index,\"Nifty Units\"] = round(niftyCurr,2)\n",
    "df.at[index+1,\"NPS Units\"] = str(round(xirrHDFC,2))+\"%\"\n",
    "df.at[index+1,\"Nifty Units\"] = str(round(xirrNIFTY,2))+\"%\""
   ]
  },
  {
   "cell_type": "code",
   "execution_count": 8,
   "metadata": {},
   "outputs": [],
   "source": [
    "# Save to file\n",
    "df.to_csv(\"NPS_XIRR.csv\",index=False)"
   ]
  }
 ],
 "metadata": {
  "kernelspec": {
   "display_name": "Python 3",
   "language": "python",
   "name": "python3"
  },
  "language_info": {
   "codemirror_mode": {
    "name": "ipython",
    "version": 3
   },
   "file_extension": ".py",
   "mimetype": "text/x-python",
   "name": "python",
   "nbconvert_exporter": "python",
   "pygments_lexer": "ipython3",
   "version": "3.9.6"
  },
  "orig_nbformat": 4
 },
 "nbformat": 4,
 "nbformat_minor": 2
}
