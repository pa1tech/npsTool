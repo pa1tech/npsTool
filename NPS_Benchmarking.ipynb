{
 "cells": [
  {
   "cell_type": "code",
   "execution_count": null,
   "metadata": {},
   "outputs": [],
   "source": [
    "import time,os,requests,io,datetime\n",
    "import pandas as pd\n",
    "import numpy as np\n",
    "from selenium.webdriver import Chrome\n",
    "from selenium.webdriver.common.by import By\n",
    "from selenium.webdriver.chrome.service import Service\n",
    "from webdriver_manager.chrome import ChromeDriverManager"
   ]
  },
  {
   "cell_type": "code",
   "execution_count": null,
   "metadata": {},
   "outputs": [],
   "source": [
    "# Read the Transactions File\n",
    "\n",
    "tdf = pd.read_csv(\"npsTransactions.csv\")\n",
    "def negUnits(x):\n",
    "    if(x[0] == \"(\"):\n",
    "        x = -float(x[1:-1])\n",
    "    else:\n",
    "        x = float(x)\n",
    "    return x\n",
    "tdf['Amt'] = tdf['Amt'].apply(negUnits)\n",
    "\n",
    "tdf['Date'] = pd.to_datetime(tdf['Date'])\n",
    "tdf = tdf.sort_values(by='Date',ascending=True, ignore_index=True)\n",
    "tdf['Date'] = tdf['Date'].dt.strftime('%Y-%m-%d')\n",
    "\n",
    "fdate = datetime.datetime.strptime(min(tdf[\"Date\"]), \"%Y-%m-%d\") \n",
    "tdate = datetime.datetime.today()"
   ]
  },
  {
   "cell_type": "code",
   "execution_count": null,
   "metadata": {},
   "outputs": [],
   "source": [
    "# HDFC PFM Data\n",
    "driver = Chrome(service=Service(ChromeDriverManager().install()))\n",
    "\n",
    "driver.get(\"https://www.hdfcpension.com/nav/nav-history/\")\n",
    "time.sleep(5)\n",
    "driver.execute_script(\"document.getElementById('from_date').value = '%s';\"%fdate.strftime(\"%d-%m-%Y\"))\n",
    "time.sleep(5)\n",
    "driver.execute_script(\"document.getElementById('to_date').value = '%s';\"%tdate.strftime(\"%d-%m-%Y\"))\n",
    "time.sleep(5)\n",
    "driver.find_element(By.ID,'filter').click()\n",
    "time.sleep(10)\n",
    "driver.find_element(By.NAME,'filter').click()\n",
    "time.sleep(30)\n",
    "\n",
    "with open(\"tmp.html\", \"w\", encoding=\"utf-8\") as f:\n",
    "    f.write(driver.page_source)\n",
    "\n",
    "dfs = pd.read_html(\"tmp.html\")\n",
    "hdfcdf = dfs[0]"
   ]
  },
  {
   "cell_type": "code",
   "execution_count": null,
   "metadata": {},
   "outputs": [],
   "source": [
    "# SBI PFM Data\n",
    "driver = Chrome(service=Service(ChromeDriverManager().install()))\n",
    "\n",
    "driver.get(\"https://www.sbipensionfunds.com/historical-nav/\")\n",
    "time.sleep(10)\n",
    "driver.execute_script(\"document.getElementById('f_date_p1').value = '%s';\"%fdate.strftime(\"%Y-%m-%d\"))\n",
    "time.sleep(5)\n",
    "driver.execute_script(\"document.getElementById('f_date_p2').value = '%s';\"%tdate.strftime(\"%Y-%m-%d\"))\n",
    "time.sleep(10)\n",
    "\n",
    "l = driver.find_element(By.NAME,'mysubmit')#.click()\n",
    "driver.execute_script(\"arguments[0].click();\", l)\n",
    "time.sleep(30)\n",
    "\n",
    "with open(\"tmp.html\", \"w\", encoding=\"utf-8\") as f:\n",
    "    f.write(driver.page_source)\n",
    "\n",
    "dfs = pd.read_html(\"tmp.html\")\n",
    "sbidf = dfs[1]"
   ]
  },
  {
   "cell_type": "code",
   "execution_count": null,
   "metadata": {},
   "outputs": [],
   "source": [
    "# Save NAV Datas to csv\n",
    "sbidf.to_csv(\"SBI_NAV_Data.csv\",index=False)\n",
    "hdfcdf.to_csv(\"HDFC_NAV_Data.csv\",index=False)\n",
    "os.remove(\"tmp.html\")\n",
    "driver.quit()"
   ]
  },
  {
   "cell_type": "code",
   "execution_count": null,
   "metadata": {},
   "outputs": [],
   "source": [
    "# Initialization and functions\n",
    "df = tdf.copy()\n",
    "sbidf = pd.read_csv(\"SBI_NAV_Data.csv\")\n",
    "hdfcdf = pd.read_csv(\"HDFC_NAV_Data.csv\")\n",
    "\n",
    "def sbiT1(date):\n",
    "    return float(sbidf.loc[sbidf[\"0\"] == \"%s\"%date][\"3\"]) #3- t1, 6-t2\n",
    "def hdfcT1(date):\n",
    "    return float(hdfcdf.loc[(hdfcdf[\"Date\"]) == \"%s\"%date][\"HDFC Pension Fund Scheme Tier I\"]) \n",
    "def getNifty(date):\n",
    "\turl=\"https://archives.nseindia.com/content/indices/ind_close_all_%s.csv\"%date\n",
    "\ts=requests.get(url).content\n",
    "\tindicesDf=pd.read_csv(io.StringIO(s.decode('utf-8')))\n",
    "\tindicesDf = indicesDf.loc[indicesDf['Index Name'] == 'Nifty 50']\n",
    "\tniftyClose = indicesDf.at[0,'Closing Index Value']\n",
    "\treturn float(niftyClose/100)"
   ]
  },
  {
   "cell_type": "code",
   "execution_count": null,
   "metadata": {},
   "outputs": [],
   "source": [
    "# Units alloted if invested in SBI vs HDFC vs Nifty\n",
    "df[\"SBI Units\"] = np.zeros(len(df['Date']))\n",
    "df[\"HDFC Units\"] = np.zeros(len(df['Date']))\n",
    "df[\"Nifty Units\"] = np.zeros(len(df['Date']))\n",
    "\n",
    "for i in range(len(df['Date'])):\n",
    "    inv = float(df.at[i,'Amt'])\n",
    "    date = datetime.datetime.strptime(df.at[i,'Date'], \"%Y-%m-%d\")\n",
    "    try:\n",
    "        df.at[i,\"SBI Units\"] = inv/sbiT1(date.strftime(\"%Y-%m-%d\"))\n",
    "        df.at[i,\"HDFC Units\"] = inv/hdfcT1(date.strftime(\"%d-%m-%Y\"))\n",
    "        df.at[i,\"Nifty Units\"] = inv/getNifty(date.strftime(\"%d%m%Y\"))\n",
    "    except:\n",
    "        date = date - datetime.timedelta(days=1)\n",
    "        df.at[i,\"SBI Units\"] = inv/sbiT1(date.strftime(\"%Y-%m-%d\"))\n",
    "        df.at[i,\"HDFC Units\"] = inv/hdfcT1(date.strftime(\"%d-%m-%Y\"))\n",
    "        df.at[i,\"Nifty Units\"] = inv/getNifty(date.strftime(\"%d%m%Y\"))"
   ]
  },
  {
   "cell_type": "code",
   "execution_count": null,
   "metadata": {},
   "outputs": [],
   "source": [
    "# Compute Present Value\n",
    "df['SBI Units'] = df['SBI Units'].apply(lambda x: round(x, 4))\n",
    "df['HDFC Units'] = df['HDFC Units'].apply(lambda x: round(x, 4))\n",
    "df['Nifty Units'] = df['Nifty Units'].apply(lambda x: round(x, 4))\n",
    "\n",
    "invested = df['Amt'].sum()\n",
    "sbiUnits = df['SBI Units'].sum()\n",
    "hdfcUnits = df['HDFC Units'].sum()\n",
    "niftyUnits = df['Nifty Units'].sum()\n",
    "\n",
    "date = datetime.datetime.strptime(sbidf.at[len(sbidf[\"0\"])-1,\"0\"], \"%Y-%m-%d\")\n",
    "\n",
    "sbiCurr = sbiUnits*sbiT1(date.strftime(\"%Y-%m-%d\"))\n",
    "hdfcCurr = hdfcUnits*hdfcT1(date.strftime(\"%d-%m-%Y\"))\n",
    "niftyCurr = niftyUnits*getNifty(date.strftime(\"%d%m%Y\"))\n",
    "\n",
    "index = len(df['Date'])\n",
    "df.at[index,\"Date\"] = date.strftime(\"%d-%b-%Y\")\n",
    "df.at[index,\"Amt\"] = invested\n",
    "df.at[index,\"SBI Units\"] = round(sbiCurr,2)\n",
    "df.at[index,\"HDFC Units\"] = round(hdfcCurr,2)\n",
    "df.at[index,\"Nifty Units\"] = round(niftyCurr,2)"
   ]
  },
  {
   "cell_type": "code",
   "execution_count": null,
   "metadata": {},
   "outputs": [],
   "source": [
    "# Save to file\n",
    "df.to_csv(\"NPS_Tier1Equity_Analysis.csv\",index=False)"
   ]
  }
 ],
 "metadata": {
  "kernelspec": {
   "display_name": "Python 3",
   "language": "python",
   "name": "python3"
  },
  "language_info": {
   "codemirror_mode": {
    "name": "ipython",
    "version": 3
   },
   "file_extension": ".py",
   "mimetype": "text/x-python",
   "name": "python",
   "nbconvert_exporter": "python",
   "pygments_lexer": "ipython3",
   "version": "3.9.6"
  },
  "orig_nbformat": 4
 },
 "nbformat": 4,
 "nbformat_minor": 2
}
